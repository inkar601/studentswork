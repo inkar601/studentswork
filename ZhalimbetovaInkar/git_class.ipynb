{
 "cells": [
  {
   "cell_type": "code",
   "execution_count": 1,
   "metadata": {},
   "outputs": [
    {
     "name": "stdout",
     "output_type": "stream",
     "text": [
      "/home/jupyter-inkar601\n"
     ]
    }
   ],
   "source": [
    "pwd"
   ]
  },
  {
   "cell_type": "code",
   "execution_count": 2,
   "metadata": {},
   "outputs": [
    {
     "name": "stdout",
     "output_type": "stream",
     "text": [
      "usage: git [--version] [--help] [-C <path>] [-c <name>=<value>]\n",
      "           [--exec-path[=<path>]] [--html-path] [--man-path] [--info-path]\n",
      "           [-p | --paginate | --no-pager] [--no-replace-objects] [--bare]\n",
      "           [--git-dir=<path>] [--work-tree=<path>] [--namespace=<name>]\n",
      "           <command> [<args>]\n",
      "\n",
      "These are common Git commands used in various situations:\n",
      "\n",
      "start a working area (see also: git help tutorial)\n",
      "   clone      Clone a repository into a new directory\n",
      "   init       Create an empty Git repository or reinitialize an existing one\n",
      "\n",
      "work on the current change (see also: git help everyday)\n",
      "   add        Add file contents to the index\n",
      "   mv         Move or rename a file, a directory, or a symlink\n",
      "   reset      Reset current HEAD to the specified state\n",
      "   rm         Remove files from the working tree and from the index\n",
      "\n",
      "examine the history and state (see also: git help revisions)\n",
      "   bisect     Use binary search to find the commit that introduced a bug\n",
      "   grep       Print lines matching a pattern\n",
      "   log        Show commit logs\n",
      "   show       Show various types of objects\n",
      "   status     Show the working tree status\n",
      "\n",
      "grow, mark and tweak your common history\n",
      "   branch     List, create, or delete branches\n",
      "   checkout   Switch branches or restore working tree files\n",
      "   commit     Record changes to the repository\n",
      "   diff       Show changes between commits, commit and working tree, etc\n",
      "   merge      Join two or more development histories together\n",
      "   rebase     Reapply commits on top of another base tip\n",
      "   tag        Create, list, delete or verify a tag object signed with GPG\n",
      "\n",
      "collaborate (see also: git help workflows)\n",
      "   fetch      Download objects and refs from another repository\n",
      "   pull       Fetch from and integrate with another repository or a local branch\n",
      "   push       Update remote refs along with associated objects\n",
      "\n",
      "'git help -a' and 'git help -g' list available subcommands and some\n",
      "concept guides. See 'git help <command>' or 'git help <concept>'\n",
      "to read about a specific subcommand or concept.\n"
     ]
    },
    {
     "ename": "",
     "evalue": "1",
     "output_type": "error",
     "traceback": []
    }
   ],
   "source": [
    "git"
   ]
  },
  {
   "cell_type": "code",
   "execution_count": 3,
   "metadata": {},
   "outputs": [
    {
     "name": "stdout",
     "output_type": "stream",
     "text": [
      "git version 2.17.1\n"
     ]
    }
   ],
   "source": [
    "git --version"
   ]
  },
  {
   "cell_type": "code",
   "execution_count": 4,
   "metadata": {},
   "outputs": [],
   "source": [
    "git config --global user.name \"Zhalimbetova Inkar\""
   ]
  },
  {
   "cell_type": "code",
   "execution_count": 5,
   "metadata": {},
   "outputs": [],
   "source": [
    "git config --global user.email \"inkar601682@gmail.com\""
   ]
  },
  {
   "cell_type": "code",
   "execution_count": 7,
   "metadata": {},
   "outputs": [
    {
     "name": "stdout",
     "output_type": "stream",
     "text": [
      "Cloning into 'studentswork'...\n",
      "remote: Enumerating objects: 9, done.        \n",
      "remote: Total 9 (delta 0), reused 0 (delta 0), pack-reused 9        \n",
      "Unpacking objects: 100% (9/9), done.\n"
     ]
    }
   ],
   "source": [
    "git clone https://github.com/inkar601/studentswork"
   ]
  },
  {
   "cell_type": "code",
   "execution_count": 8,
   "metadata": {},
   "outputs": [
    {
     "name": "stdout",
     "output_type": "stream",
     "text": [
      "12345      studentswork      Untitled2.ipynb  Untitled8.ipynb\n",
      "222.ipynb  Untitled10.ipynb  Untitled3.ipynb  Untitled9.ipynb\n",
      "444.ipynb  Untitled11.ipynb  Untitled4.ipynb  Untitled.ipynb\n",
      "git.ipynb  Untitled12.ipynb  Untitled5.ipynb  ZhalimbetovaInkar\n",
      "inkar      Untitled13.ipynb  Untitled6.ipynb\n",
      "shared     Untitled1.ipynb   Untitled7.ipynb\n"
     ]
    }
   ],
   "source": [
    "ls"
   ]
  },
  {
   "cell_type": "code",
   "execution_count": 9,
   "metadata": {},
   "outputs": [],
   "source": [
    "cd studentswork"
   ]
  },
  {
   "cell_type": "code",
   "execution_count": 10,
   "metadata": {},
   "outputs": [
    {
     "name": "stdout",
     "output_type": "stream",
     "text": [
      "/home/jupyter-inkar601/studentswork\n"
     ]
    }
   ],
   "source": [
    "pwd"
   ]
  },
  {
   "cell_type": "code",
   "execution_count": 11,
   "metadata": {},
   "outputs": [
    {
     "name": "stdout",
     "output_type": "stream",
     "text": [
      "demo.png  LICENSE  README.md\n"
     ]
    }
   ],
   "source": [
    "ls"
   ]
  },
  {
   "cell_type": "code",
   "execution_count": 12,
   "metadata": {},
   "outputs": [
    {
     "name": "stdout",
     "output_type": "stream",
     "text": [
      "demo.png  LICENSE  README.md\n"
     ]
    }
   ],
   "source": [
    "ls"
   ]
  },
  {
   "cell_type": "code",
   "execution_count": 13,
   "metadata": {},
   "outputs": [],
   "source": [
    "mkdir ZhalimbetovaInkar "
   ]
  },
  {
   "cell_type": "code",
   "execution_count": 14,
   "metadata": {},
   "outputs": [
    {
     "name": "stdout",
     "output_type": "stream",
     "text": [
      "demo.png  LICENSE  README.md  ZhalimbetovaInkar\n"
     ]
    }
   ],
   "source": [
    "ls"
   ]
  },
  {
   "cell_type": "code",
   "execution_count": 15,
   "metadata": {},
   "outputs": [],
   "source": [
    "cd ZhalimbetovaInkar"
   ]
  },
  {
   "cell_type": "code",
   "execution_count": 16,
   "metadata": {},
   "outputs": [
    {
     "name": "stdout",
     "output_type": "stream",
     "text": [
      "/home/jupyter-inkar601/studentswork/ZhalimbetovaInkar\n"
     ]
    }
   ],
   "source": [
    "pwd"
   ]
  },
  {
   "cell_type": "code",
   "execution_count": 17,
   "metadata": {},
   "outputs": [
    {
     "name": "stdout",
     "output_type": "stream",
     "text": [
      "bear       homework3        inkar_hw5.ipynb  pulsar       river.txt\n",
      "donut.txt  inkar            Inkar.ipynb      pulsar.txt\n",
      "homework1  inkar_hw4.ipynb  inkar.txt        river.ipynb\n"
     ]
    }
   ],
   "source": [
    "ls"
   ]
  },
  {
   "cell_type": "code",
   "execution_count": 18,
   "metadata": {},
   "outputs": [
    {
     "name": "stdout",
     "output_type": "stream",
     "text": [
      "/home/jupyter-inkar601/studentswork/ZhalimbetovaInkar\n"
     ]
    }
   ],
   "source": [
    "pwd"
   ]
  },
  {
   "cell_type": "code",
   "execution_count": 19,
   "metadata": {},
   "outputs": [],
   "source": [
    "cd .."
   ]
  },
  {
   "cell_type": "code",
   "execution_count": 20,
   "metadata": {},
   "outputs": [
    {
     "name": "stdout",
     "output_type": "stream",
     "text": [
      "/home/jupyter-inkar601/studentswork\n"
     ]
    }
   ],
   "source": [
    "pwd"
   ]
  },
  {
   "cell_type": "code",
   "execution_count": 21,
   "metadata": {},
   "outputs": [],
   "source": [
    "git add ."
   ]
  },
  {
   "cell_type": "code",
   "execution_count": 22,
   "metadata": {},
   "outputs": [
    {
     "name": "stdout",
     "output_type": "stream",
     "text": [
      "[master 8d26a8a] Added linux homeworks from server\n",
      " 23 files changed, 3101 insertions(+)\n",
      " create mode 100644 ZhalimbetovaInkar/Inkar.ipynb\n",
      " create mode 100644 ZhalimbetovaInkar/bear\n",
      " create mode 100644 ZhalimbetovaInkar/donut.txt\n",
      " create mode 100644 ZhalimbetovaInkar/homework1/lscommand.txt\n",
      " create mode 100644 ZhalimbetovaInkar/homework3/hw3.ipynb\n",
      " create mode 100644 ZhalimbetovaInkar/homework3/test36/1.mp3\n",
      " create mode 100644 ZhalimbetovaInkar/homework3/test36/11.txt\n",
      " create mode 100644 ZhalimbetovaInkar/homework3/test36/111.mp3\n",
      " create mode 100644 ZhalimbetovaInkar/homework3/test36/2.txt\n",
      " create mode 100644 ZhalimbetovaInkar/homework3/test36/4.png\n",
      " create mode 100644 ZhalimbetovaInkar/homework3/test36/a.png\n",
      " create mode 100644 ZhalimbetovaInkar/homework3/test36/a.txt\n",
      " create mode 100644 ZhalimbetovaInkar/homework3/test36/b.mp3\n",
      " create mode 100644 ZhalimbetovaInkar/homework3/test36/c.txt\n",
      " create mode 100755 ZhalimbetovaInkar/homework3/test36/test36\n",
      " create mode 100644 ZhalimbetovaInkar/inkar.txt\n",
      " create mode 100644 ZhalimbetovaInkar/inkar/myresume.txt\n",
      " create mode 100644 ZhalimbetovaInkar/inkar_hw4.ipynb\n",
      " create mode 100644 ZhalimbetovaInkar/inkar_hw5.ipynb\n",
      " create mode 100755 ZhalimbetovaInkar/pulsar\n",
      " create mode 100644 ZhalimbetovaInkar/pulsar.txt\n",
      " create mode 100644 ZhalimbetovaInkar/river.ipynb\n",
      " create mode 100644 ZhalimbetovaInkar/river.txt\n"
     ]
    }
   ],
   "source": [
    "git commit -m \"Added linux homeworks from server\""
   ]
  },
  {
   "cell_type": "code",
   "execution_count": null,
   "metadata": {},
   "outputs": [],
   "source": [
    "#git push origin master"
   ]
  },
  {
   "cell_type": "code",
   "execution_count": null,
   "metadata": {},
   "outputs": [],
   "source": []
  }
 ],
 "metadata": {
  "kernelspec": {
   "display_name": "Bash",
   "language": "bash",
   "name": "bash"
  },
  "language_info": {
   "codemirror_mode": "shell",
   "file_extension": ".sh",
   "mimetype": "text/x-sh",
   "name": "bash"
  }
 },
 "nbformat": 4,
 "nbformat_minor": 4
}
